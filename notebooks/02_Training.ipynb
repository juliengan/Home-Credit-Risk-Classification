{
 "cells": [
  {
   "cell_type": "code",
   "execution_count": null,
   "metadata": {},
   "outputs": [],
   "source": [
    "from sklearn.ensemble import GradientBoostingClassifier\n",
    "import pandas as pd\n",
    "train = pd.read_csv(\"../data/processed/application_train.csv\")\n",
    "test = pd.read_csv(\"../data/processed/application_test.csv\")\n",
    "\n",
    "X_train, X_test = train, test\n",
    "y_train, y_test = train.target, test.target\n",
    "clf = GradientBoostingClassifier(n_estimators=100, learning_rate=1.0,max_depth=1, random_state=0).fit(X_train, y_train)\n",
    "clf.score(X_test, y_test)"
   ]
  }
 ],
 "metadata": {
  "kernelspec": {
   "display_name": "Python 3.8.10 64-bit",
   "language": "python",
   "name": "python3"
  },
  "language_info": {
   "name": "python",
   "version": "3.8.10"
  },
  "orig_nbformat": 4,
  "vscode": {
   "interpreter": {
    "hash": "ad94e5bd57c7a07ce3c4f2d73b9a1c27e45962b5af88d6c3569526935091d1ff"
   }
  }
 },
 "nbformat": 4,
 "nbformat_minor": 2
}
